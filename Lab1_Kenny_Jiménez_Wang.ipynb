{
  "nbformat": 4,
  "nbformat_minor": 0,
  "metadata": {
    "colab": {
      "provenance": [],
      "authorship_tag": "ABX9TyPEw/ix+lXx9ME1592sqmwO",
      "include_colab_link": true
    },
    "kernelspec": {
      "name": "python3",
      "display_name": "Python 3"
    },
    "language_info": {
      "name": "python"
    }
  },
  "cells": [
    {
      "cell_type": "markdown",
      "metadata": {
        "id": "view-in-github",
        "colab_type": "text"
      },
      "source": [
        "<a href=\"https://colab.research.google.com/github/KenyJW/AnalisisDatos/blob/main/Lab1_Kenny_Jim%C3%A9nez_Wang.ipynb\" target=\"_parent\"><img src=\"https://colab.research.google.com/assets/colab-badge.svg\" alt=\"Open In Colab\"/></a>"
      ]
    },
    {
      "cell_type": "code",
      "execution_count": null,
      "metadata": {
        "id": "T-6Sb2acHe-h"
      },
      "outputs": [],
      "source": [
        "print(\"ejercicio #1 calcular distancia\")\n",
        "print(\"ingrese la velocidad y el tiempo de la unidad movil\")\n",
        "v=float(input(\"ingrese la velocidad:\"))\n",
        "t=float(input(\"ingrese el tiempo:\"))\n",
        "print(\"La distancia es:\"+str(v*t))"
      ]
    },
    {
      "cell_type": "code",
      "source": [
        "print(\"ejercicio #2 promedio notas\")\n",
        "nota1=float(input(\"ingrese la nota 1:\"))\n",
        "nota2=int(input(\"ingrese la nota 2:\"))\n",
        "nota3=int(input(\"ingrese la nota 3\"))\n",
        "print(\"el promedio de las notas es:\"+str((nota1+nota2+nota3)/3))"
      ],
      "metadata": {
        "id": "AnivGgvGJMSZ"
      },
      "execution_count": null,
      "outputs": []
    },
    {
      "cell_type": "code",
      "source": [
        "print(\"Nota total\")\n",
        "print(\"ingrese el numero de respuestas\")\n",
        "RC=int(input(\"ingrese el numero de respuestas correctas:\"))\n",
        "RI=int(input(\"ingrese el numero de respuestas incorrectas:\"))\n",
        "RB=int(input(\"ingrese el numero de respuestas en blanco:\"))\n",
        "print(\"en puntaje final es de:\"+str((RC*3)+(RI*-1)+(RB*0)))"
      ],
      "metadata": {
        "id": "cqPgtYGaJMX5"
      },
      "execution_count": null,
      "outputs": []
    }
  ]
}