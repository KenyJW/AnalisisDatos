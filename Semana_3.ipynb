{
  "nbformat": 4,
  "nbformat_minor": 0,
  "metadata": {
    "colab": {
      "provenance": [],
      "authorship_tag": "ABX9TyPiwEdLgDk2lkS3jMeHUWgI",
      "include_colab_link": true
    },
    "kernelspec": {
      "name": "python3",
      "display_name": "Python 3"
    },
    "language_info": {
      "name": "python"
    }
  },
  "cells": [
    {
      "cell_type": "markdown",
      "metadata": {
        "id": "view-in-github",
        "colab_type": "text"
      },
      "source": [
        "<a href=\"https://colab.research.google.com/github/KenyJW/AnalisisDatos/blob/main/Semana_3.ipynb\" target=\"_parent\"><img src=\"https://colab.research.google.com/assets/colab-badge.svg\" alt=\"Open In Colab\"/></a>"
      ]
    },
    {
      "cell_type": "code",
      "execution_count": null,
      "metadata": {
        "id": "2iFzogpM246g"
      },
      "outputs": [],
      "source": [
        "#Decoración: nombre del algoritmo\n",
        "print(\"--------------------------------------------------------------\")\n",
        "print(\"Ejemplo 2: IMPRIMIR EL MENOR DE DOS NÚMEROS.\")\n",
        "print(\"--------------------------------------------------------------\")\n",
        "#Entradas\n",
        "print(\"Ingrese 2 números: \")\n",
        "x=int( input(\"primer número:\"))\n",
        "y=int(input(\"segundo número: \"))\n",
        "print(\"\\nSALIDA\")\n",
        "print(\"--------------------------------------------------------------\")\n",
        "#Nota: no olvidarse de las indentación.\n",
        "if x>y:\n",
        "#esto esta dentro del if\n",
        "  print(\"El menor es:\", y)\n",
        "else:\n",
        "#esto esta dentro del else\n",
        "  print(\"El menor es\",x)\n"
      ]
    },
    {
      "cell_type": "code",
      "source": [
        "switcher={1:\"Enero\",2:\"Febrero\",3:\"Marzo\",4:\"abril\",5:\"Mayo\",6:\"Junio\",7:\"Julio\",8:\"Agosto\",9:\"Septiembre\",10:\"Octubre\",11:\"Noviembre\",12:\"Diciembre\"}\n",
        "argument=int(input(\"Ingrese un número:\"))\n",
        "nameMes=switcher.get(argument,\"Mes inválido\")\n",
        "print(nameMes)"
      ],
      "metadata": {
        "id": "mcy8dUzP66FD"
      },
      "execution_count": null,
      "outputs": []
    },
    {
      "cell_type": "code",
      "source": [],
      "metadata": {
        "id": "WYePEh7u8Ygo"
      },
      "execution_count": null,
      "outputs": []
    }
  ]
}