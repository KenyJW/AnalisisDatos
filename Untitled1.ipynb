{
  "nbformat": 4,
  "nbformat_minor": 0,
  "metadata": {
    "colab": {
      "provenance": [],
      "authorship_tag": "ABX9TyO1fME/JAKxH5z11kWbasbT",
      "include_colab_link": true
    },
    "kernelspec": {
      "name": "python3",
      "display_name": "Python 3"
    },
    "language_info": {
      "name": "python"
    }
  },
  "cells": [
    {
      "cell_type": "markdown",
      "metadata": {
        "id": "view-in-github",
        "colab_type": "text"
      },
      "source": [
        "<a href=\"https://colab.research.google.com/github/KenyJW/AnalisisDatos/blob/main/Untitled1.ipynb\" target=\"_parent\"><img src=\"https://colab.research.google.com/assets/colab-badge.svg\" alt=\"Open In Colab\"/></a>"
      ]
    },
    {
      "cell_type": "code",
      "execution_count": null,
      "metadata": {
        "colab": {
          "base_uri": "https://localhost:8080/"
        },
        "id": "QpJfPN5ZmNya",
        "outputId": "c8d6d5fc-6957-4f53-f6b7-0ecd9bb61f14"
      },
      "outputs": [
        {
          "output_type": "stream",
          "name": "stdout",
          "text": [
            "Index positions of 22 in DataFrame :\n",
            "(1, 'Ciudad')\n",
            "(4, 'Ciudad')\n"
          ]
        }
      ],
      "source": [
        "import pandas as pd\n",
        "students= [('Ana', '23', 'San José', 'A'),\n",
        "           ('Estebn', '22', 'Heredia', 'B'),\n",
        "           ('Juan', '22', 'Cartago', 'A'),\n",
        "           ('Karla', '22', 'Limón', 'A'),\n",
        "           ('Erenesto', '21', 'Heredia', 'B')\n",
        "          ]\n",
        "df=pd.DataFrame(students, columns=['Nombre', 'Edad', 'Ciudad', 'Seccion'])\n",
        "\n",
        "def getIndexes(dfObj, value):\n",
        "\n",
        "    ListOfPos=[]\n",
        "    result=dfObj.isin([value])\n",
        "    seriesObj=result.any()\n",
        "    columnNames=list(seriesObj[seriesObj==True].index)\n",
        "\n",
        "    for col in columnNames:\n",
        "        rows=list(result[col][result[col]==True].index)\n",
        "\n",
        "        for row in rows:\n",
        "            ListOfPos.append((row, col))\n",
        "    return ListOfPos\n",
        "\n",
        "ListOfPositions=getIndexes(df, 'Heredia')\n",
        "\n",
        "print('Index positions of 22 in DataFrame :')\n",
        "\n",
        "for i in range(len(ListOfPositions)):\n",
        "    print(ListOfPositions[i])"
      ]
    }
  ]
}