{
  "nbformat": 4,
  "nbformat_minor": 0,
  "metadata": {
    "colab": {
      "provenance": [],
      "authorship_tag": "ABX9TyMiUn4VMgkxKEepxmKlWALZ",
      "include_colab_link": true
    },
    "kernelspec": {
      "name": "python3",
      "display_name": "Python 3"
    },
    "language_info": {
      "name": "python"
    }
  },
  "cells": [
    {
      "cell_type": "markdown",
      "metadata": {
        "id": "view-in-github",
        "colab_type": "text"
      },
      "source": [
        "<a href=\"https://colab.research.google.com/github/KenyJW/AnalisisDatos/blob/AnalisisDatos/ejercicio_pps_7_seleccion_natural.ipynb\" target=\"_parent\"><img src=\"https://colab.research.google.com/assets/colab-badge.svg\" alt=\"Open In Colab\"/></a>"
      ]
    },
    {
      "cell_type": "code",
      "execution_count": 55,
      "metadata": {
        "colab": {
          "base_uri": "https://localhost:8080/",
          "height": 466
        },
        "id": "ZY6IaryYs0P5",
        "outputId": "5854b787-22bf-4c48-a949-f4a872d8e5a1"
      },
      "outputs": [
        {
          "output_type": "execute_result",
          "data": {
            "text/plain": [
              "<module 'matplotlib.pyplot' from '/usr/local/lib/python3.10/dist-packages/matplotlib/pyplot.py'>"
            ]
          },
          "metadata": {},
          "execution_count": 55
        },
        {
          "output_type": "display_data",
          "data": {
            "text/plain": [
              "<Figure size 640x480 with 1 Axes>"
            ],
            "image/png": "[encoded data removed]"
          },
          "metadata": {}
        }
      ],
      "source": [
        "from random import random\n",
        "import matplotlib.pyplot as plt\n",
        "import numpy as np\n",
        "\n",
        "#definimos los parametros de la simulacion\n",
        "tamano_poblacion = 200\n",
        "cantidad_alimento = 100\n",
        "prob_mutacion = 0.01\n",
        "cantidad_iteraciones = 5\n",
        "\n",
        "#definimos la clase de los organismos\n",
        "class Organismo:\n",
        "  def __init__(self, prob_sobrevivir, velocidad_reproduccion):\n",
        "    self.prob_sobrevivir = prob_sobrevivir\n",
        "    self.velocidad_reproduccion = velocidad_reproduccion\n",
        "\n",
        "  def reproducirse(self):\n",
        "    if random()<self.velocidad_reproduccion:\n",
        "      return Organismo(self.prob_sobrevivir, self.velocidad_reproduccion)\n",
        "    else:\n",
        "      return None\n",
        "\n",
        "  def sobrevivir(self, cantidad_alimento):\n",
        "    prob_sobrevivir_ajustada = self.prob_sobrevivir*(cantidad_alimento/100.0)\n",
        "    if random()<prob_sobrevivir_ajustada:\n",
        "      return True\n",
        "    else:\n",
        "      return False\n",
        "\n",
        "#definimos la funcion para mutar un organismo\n",
        "def mutar_Organismo(Organismo, prob_mutacion):\n",
        "  if random()<prob_mutacion:\n",
        "    return Organismo(Organismo.prob_sobrevivir + (random()* 0.2-0.1), Organismo.velocidad_reproduccion + (random()*0.2-0.1))\n",
        "  else:\n",
        "    return  Organismo\n",
        "\n",
        "#creamos poblacion inicial \n",
        "poblacion = [Organismo(random(), random()) for i in range(tamano_poblacion)]\n",
        "\n",
        "#Creamos las listas para almacenar la evolucion de la poblacion\n",
        "poblacion_tamano = []\n",
        "poblacion_promedio_sobrevivencia = []\n",
        "poblacion_promedio_velocidad = []\n",
        "\n",
        "#ejecutamos la sumilacion\n",
        "for i in range(cantidad_iteraciones):\n",
        "  #Calculamos la cantidad de alimento disponible\n",
        "  cantidad_alimento = 100-i\n",
        "\n",
        "  #Filtramos los organismos que sobreviven y se reproducen\n",
        "  poblacion = [Organismo.reproducirse() for Organismo in poblacion if Organismo.sobrevivir(cantidad_alimento)]\n",
        "  poblacion = [Organismo for Organismo in poblacion if Organismo is not None]\n",
        "\n",
        "#mutamos algunos organismos al azar\n",
        "poblacion = [mutar_Organismo(Organismo, prob_mutacion) for Organismo in poblacion]\n",
        "\n",
        "#Almacenamos la evolucion de la poblacion\n",
        "poblacion_tamano.append(len(poblacion))\n",
        "poblacion_promedio_sobrevivencia.append(np.mean([Organismo.prob_sobrevivir for Organismo in poblacion]))\n",
        "\n",
        "#Graficamos la evolucion de a poblacion\n",
        "plt.figure()\n",
        "plt.plot(poblacion_tamano, label='Tamaño de la poblacion')\n",
        "plt.plot(poblacion_promedio_sobrevivencia, label = 'Probabilidad de sobrevivencia promedio')\n",
        "plt.plot(poblacion_promedio_velocidad, label = 'Velocidad de reproducion promedio')\n",
        "plt.xlabel('Generaciones')\n",
        "plt.ylabel('Tamaño de la poblacion')\n",
        "plt"
      ]
    }
  ]
}