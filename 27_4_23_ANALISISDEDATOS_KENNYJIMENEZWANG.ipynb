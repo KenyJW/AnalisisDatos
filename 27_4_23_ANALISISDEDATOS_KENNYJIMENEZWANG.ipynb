{
  "nbformat": 4,
  "nbformat_minor": 0,
  "metadata": {
    "colab": {
      "provenance": [],
      "authorship_tag": "ABX9TyM2C7M232GG421d70qIWeLW",
      "include_colab_link": true
    },
    "kernelspec": {
      "name": "python3",
      "display_name": "Python 3"
    },
    "language_info": {
      "name": "python"
    }
  },
  "cells": [
    {
      "cell_type": "markdown",
      "metadata": {
        "id": "view-in-github",
        "colab_type": "text"
      },
      "source": [
        "<a href=\"https://colab.research.google.com/github/KenyJW/AnalisisDatos/blob/AnalisisDatos/27_4_23_ANALISISDEDATOS_KENNYJIMENEZWANG.ipynb\" target=\"_parent\"><img src=\"https://colab.research.google.com/assets/colab-badge.svg\" alt=\"Open In Colab\"/></a>"
      ]
    },
    {
      "cell_type": "code",
      "source": [
        "import pandas as pd\n",
        "df = pd.read_csv('datasetCSV.csv')\n",
        "data = pd.DataFrame(df)\n",
        "print(data)\n",
        "\n",
        "#Este código busca las redes sociales instagram donde normalmente compran o la ultima compra\n",
        "print(\"Este código busca las redes sociales instagram donde normalmente compran o la ultima compra\")\n",
        "filtrer_shop = data.loc[(data['SM_Usually_Shop'] == 'Instagram') | (data['SM_Last_Shop'] == 'Instagram')]\n",
        "print(filtrer_shop)"
      ],
      "metadata": {
        "colab": {
          "base_uri": "https://localhost:8080/"
        },
        "id": "Ajjk3KDUdW5o",
        "outputId": "385e7626-6112-4ed8-8add-cdbd4e731be0"
      },
      "execution_count": 33,
      "outputs": [
        {
          "output_type": "stream",
          "name": "stdout",
          "text": [
            "      Gender SM_Click_First SM_Usually_Shop SM_Last_Shop       Device_Shop\n",
            "221   Female      Instagram        Facebook    Instagram          Computer\n",
            "222   Female      Instagram        Facebook    Instagram          Computer\n",
            "223   Female      Instagram        Facebook    Instagram          Computer\n",
            "224   Female      Instagram        Facebook    Instagram          Computer\n",
            "225   Female      Instagram        Facebook    Instagram          Computer\n",
            "...      ...            ...             ...          ...               ...\n",
            "1487   Male        Snapchat        Facebook    Instagram  Phone & Computer\n",
            "1488   Male        Snapchat        Facebook    Instagram  Phone & Computer\n",
            "1489   Male        Snapchat        Facebook    Instagram  Phone & Computer\n",
            "1490   Male        Snapchat        Facebook    Instagram  Phone & Computer\n",
            "1491   Male        Snapchat        Facebook    Instagram  Phone & Computer\n",
            "\n",
            "[1246 rows x 5 columns]\n"
          ]
        }
      ]
    },
    {
      "cell_type": "code",
      "execution_count": null,
      "metadata": {
        "colab": {
          "base_uri": "https://localhost:8080/"
        },
        "id": "1TwsfiQkROZh",
        "outputId": "a2b24f19-bb45-4e6c-fef3-87123bcd1f51"
      },
      "outputs": [
        {
          "output_type": "stream",
          "name": "stdout",
          "text": [
            "\n",
            "\n",
            "A-Los paises con mayor indice de homicidios intencionales en el año 2018 son:\n",
            "                         Country  Value\n",
            "1114                 El Salvador   52.0\n",
            "1682                     Jamaica   43.9\n",
            "1459                    Honduras   38.9\n",
            "3534  Venezuela (Boliv. Rep. of)   36.7\n",
            "3062                South Africa   36.4\n",
            "\n",
            "\n",
            "B-Los 5 paises con menor indice de homicidios intencionales en el año 2018 son: \n",
            "               Country  Value\n",
            "2985         Singapore    0.2\n",
            "809   China, Macao SAR    0.3\n",
            "2438              Oman    0.3\n",
            "1709             Japan    0.3\n",
            "762              China    0.5\n",
            "\n",
            "\n",
            "C- crimen mas repetido por pais en el 2018\n",
            "Intentional homicide rates per 100,000                                91\n",
            "Assault rate per 100,000 population                                   82\n",
            "Theft at the national level, rate per 100,000 population              75\n",
            "Percentage of male and female intentional homicide victims, Male      74\n",
            "Percentage of male and female intentional homicide victims, Female    73\n",
            "Kidnapping at the national level, rate per 100,000                    67\n",
            "Name: Series, dtype: int64\n",
            "\n",
            "\n",
            "D.Crimen con el porcentaje mas alto en CR en el 2005\n",
            "Empty DataFrame\n",
            "Columns: [Country, Series, Value]\n",
            "Index: []\n",
            "\n",
            "\n",
            "E. EN el año 2010, cual es tasa de homicidios en Costa Rica, Panama y Nicaragua\n",
            "         Country  Value\n",
            "849   Costa Rica   11.5\n",
            "2344   Nicaragua   13.5\n",
            "2471      Panama   12.6\n"
          ]
        }
      ],
      "source": [
        "import pandas as pd\n",
        "#import matplotlib.pyplot as plt\n",
        "\n",
        "df=pd.read_csv('1.csv')\n",
        "data=pd.DataFrame(df)\n",
        "data=data.astype({\"Value\":float})\n",
        "dataFiltered2018=data.loc[(data['Year']==2018)]\n",
        "#print (\"5 paises con mayor indice criminal\")\n",
        "print()\n",
        "print()\n",
        "dataFiltered=data.loc[(data['Series']==\"Intentional homicide rates per 100,000\") & (data['Year']==2018)]\n",
        "print(\"A-Los paises con mayor indice de homicidios intencionales en el año 2018 son:\")\n",
        "print(dataFiltered.sort_values(by=['Value'], ascending=False)[['Country', 'Value']].head(5))\n",
        "\n",
        "#print (\"5 paises con menor indice criminal\")\n",
        "print()\n",
        "print()\n",
        "dataFiltered=data.loc[(data['Series']==\"Intentional homicide rates per 100,000\") & (data['Year']==2018)]\n",
        "print(\"B-Los 5 paises con menor indice de homicidios intencionales en el año 2018 son: \")\n",
        "print(dataFiltered.sort_values(by=['Value'], ascending=True)[['Country', 'Value']].head(5))\n",
        "\n",
        "\n",
        "#crimen mas repetido por pais en el 2018\n",
        "print()\n",
        "print()\n",
        "print('C- crimen mas repetido por pais en el 2018')\n",
        "print(dataFiltered2018['Series'].value_counts())\n",
        "\n",
        "#crimen con el porcentaje mas alto en CR en el 2005\n",
        "print()\n",
        "print()\n",
        "print('D.Crimen con el porcentaje mas alto en CR en el 2005')\n",
        "dataFilteredCR=data.loc[(data['Country']==\"Cota Rica\")&(data['Year']==2005)]\n",
        "print(dataFilteredCR.sort_values(by=['Value'],ascending=False)\n",
        "[['Country', 'Series', 'Value']])\n",
        "\n",
        "#E. EN el año 2010, cual es tasa de homicidios en Costa Rica, Panama y Nicaragua\n",
        "print()\n",
        "print()\n",
        "print(\"E. EN el año 2010, cual es tasa de homicidios en Costa Rica, Panama y Nicaragua\")\n",
        "registro_general=df.loc[(((df[\"Country\"]==\"Costa Rica\") | (df[\"Country\"]==\"Panama\")\n",
        "|(df[\"Country\"]==\"Nicaragua\"))\n",
        "& (df[\"Series\"]==\"Intentional homicide rates per 100,000\")\n",
        "& (df[\"Year\"]==2010))][['Country', 'Value']]\n",
        "print(registro_general)"
      ]
    }
  ]
}