{
  "nbformat": 4,
  "nbformat_minor": 0,
  "metadata": {
    "colab": {
      "provenance": [],
      "authorship_tag": "ABX9TyP3FPIITSlYuXr0jtXNjohf",
      "include_colab_link": true
    },
    "kernelspec": {
      "name": "python3",
      "display_name": "Python 3"
    },
    "language_info": {
      "name": "python"
    }
  },
  "cells": [
    {
      "cell_type": "markdown",
      "metadata": {
        "id": "view-in-github",
        "colab_type": "text"
      },
      "source": [
        "<a href=\"https://colab.research.google.com/github/KenyJW/AnalisisDatos/blob/main/query_pd_columnas.ipynb\" target=\"_parent\"><img src=\"https://colab.research.google.com/assets/colab-badge.svg\" alt=\"Open In Colab\"/></a>"
      ]
    },
    {
      "cell_type": "code",
      "execution_count": null,
      "metadata": {
        "id": "moLJG8h3EqJG",
        "colab": {
          "base_uri": "https://localhost:8080/"
        },
        "outputId": "826626be-e11a-48b0-adc9-19f45d2997d3"
      },
      "outputs": [
        {
          "output_type": "stream",
          "name": "stdout",
          "text": [
            "      Country    Capital  Population\n",
            "0  Costa Rica   San José     4500000\n",
            "1       India  New Delhi   303171035\n",
            "2      Brasil   Brasilia   207847528\n"
          ]
        }
      ],
      "source": [
        "import pandas as pd\n",
        "data={'Country': ['Costa Rica', 'India', 'Brasil'],\n",
        "'Capital':['San José', 'New Delhi', 'Brasilia'],\n",
        "'Population':[4500000, 303171035, 207847528]  }\n",
        "df=pd.DataFrame(data,columns=['Country', 'Capital', 'Population'])\n",
        "print(df)"
      ]
    },
    {
      "cell_type": "code",
      "source": [
        "print(\"Promedio de los elementos \")\n",
        "suma=0\n",
        "media=0\n",
        "temp=[]\n",
        "print(\"Ingrese cantidad de temperaturas\")\n",
        "N=int(input())\n",
        "\n",
        "for i in range(N):\n",
        "    temperatura=float(input(\"Ingrese la temperatura\"))\n",
        "    temp.append(temperatura)\n",
        "    suma=suma+temp[i]\n",
        "media=suma/N\n",
        "print(media)"
      ],
      "metadata": {
        "id": "WFGVJTpUX8ed"
      },
      "execution_count": null,
      "outputs": []
    },
    {
      "cell_type": "code",
      "source": [
        "from sqlalchemy.sql.expression import true\n",
        "import pandas as pd\n",
        "mascota=pd.DataFrame(\n",
        "    data={\n",
        "        'name':['Minimo', 'Milo', 'Snoopy', 'Blnco', 'LittlePony'],\n",
        "        'type': ['gato', 'perro', 'perro', 'perro', 'caballo']\n",
        "    },\n",
        "    index=[71, 42, 11, 98, 42]\n",
        ")\n",
        "visitas=pd.DataFrame(\n",
        "    data={\n",
        "        'pet_id': [42, 31, 71, 42, 98, 42],\n",
        "        'fecha':['2019-03-15', '2019-03-15', '2019-04-05', '2019-04-06', '2019-04-12', '2019-04-15'],\n",
        "        'costo': [2000, 5000, 1000, 5000, 6000, 10000]\n",
        "    }\n",
        ")\n",
        "mascota.index.rename('pet_id', inplace=True)\n",
        "visitas.index.rename('visit_id', inplace=True)\n",
        "\n",
        "print(mascota.query('pet_id==71'))\n",
        "print(visitas['costo'].sum())\n",
        "print(visitas['costo'].min())\n",
        "print(visitas['costo'].max())\n",
        "\n",
        "print(visitas)\n",
        "\n",
        "print(visitas.sort_values(by='costo', ascending=False))\n",
        "\n",
        "tienda=pd.merge(mascota, visitas,how='cross')\n",
        "\n",
        "print(tienda)\n"
      ],
      "metadata": {
        "id": "sp6ao0LJbUBd"
      },
      "execution_count": null,
      "outputs": []
    }
  ]
}